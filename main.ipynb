{
 "cells": [
  {
   "cell_type": "markdown",
   "id": "21fcd85e-2b8d-4f1b-8e09-50b896c80443",
   "metadata": {},
   "source": [
    "# Text Classification with AG news (Logistic Regression vs Naive Bayes)\n",
    "\n",
    "In this project I build a text classification model using the AG News Data Set. The goal was to compare two models Logistic Regression and Naive Bayes and to see which one performs better.\n",
    "The project is based on concepts I learned from the course Machine Learning by deeplearning.ai"
   ]
  },
  {
   "cell_type": "markdown",
   "id": "0e31c5bb-274c-44e3-9c31-664308e4db56",
   "metadata": {},
   "source": [
    "### Tools"
   ]
  },
  {
   "cell_type": "code",
   "execution_count": 64,
   "id": "8c240445-104f-42fb-a6ee-ddcaa643bb41",
   "metadata": {},
   "outputs": [],
   "source": [
    "import pandas as pd\n",
    "import re\n",
    "import seaborn as sns\n",
    "import matplotlib.pyplot as plt\n",
    "from sklearn.model_selection import train_test_split\n",
    "from sklearn.feature_extraction.text import TfidfVectorizer\n",
    "from sklearn.linear_model import LogisticRegression\n",
    "from sklearn.naive_bayes import MultinomialNB\n",
    "from sklearn.metrics import classification_report, accuracy_score, confusion_matrix\n",
    "from collections import Counter"
   ]
  },
  {
   "cell_type": "markdown",
   "id": "322e800b-ec98-4eec-828c-383d47dc8603",
   "metadata": {},
   "source": [
    "### Load and Insepct the data set\n",
    "This reads the AG news Data Set (train.csv), combines the title and description into one text column and maps numeric labels to category names"
   ]
  },
  {
   "cell_type": "code",
   "execution_count": 65,
   "id": "5fc35801-bba3-4f60-ba73-96b7dbbfeea4",
   "metadata": {},
   "outputs": [
    {
     "data": {
      "text/html": [
       "<div>\n",
       "<style scoped>\n",
       "    .dataframe tbody tr th:only-of-type {\n",
       "        vertical-align: middle;\n",
       "    }\n",
       "\n",
       "    .dataframe tbody tr th {\n",
       "        vertical-align: top;\n",
       "    }\n",
       "\n",
       "    .dataframe thead th {\n",
       "        text-align: right;\n",
       "    }\n",
       "</style>\n",
       "<table border=\"1\" class=\"dataframe\">\n",
       "  <thead>\n",
       "    <tr style=\"text-align: right;\">\n",
       "      <th></th>\n",
       "      <th>Class Index</th>\n",
       "      <th>Title</th>\n",
       "      <th>Description</th>\n",
       "      <th>text</th>\n",
       "      <th>label</th>\n",
       "    </tr>\n",
       "  </thead>\n",
       "  <tbody>\n",
       "    <tr>\n",
       "      <th>0</th>\n",
       "      <td>3</td>\n",
       "      <td>Wall St. Bears Claw Back Into the Black (Reuters)</td>\n",
       "      <td>Reuters - Short-sellers, Wall Street's dwindli...</td>\n",
       "      <td>Wall St. Bears Claw Back Into the Black (Reute...</td>\n",
       "      <td>Business</td>\n",
       "    </tr>\n",
       "    <tr>\n",
       "      <th>1</th>\n",
       "      <td>3</td>\n",
       "      <td>Carlyle Looks Toward Commercial Aerospace (Reu...</td>\n",
       "      <td>Reuters - Private investment firm Carlyle Grou...</td>\n",
       "      <td>Carlyle Looks Toward Commercial Aerospace (Reu...</td>\n",
       "      <td>Business</td>\n",
       "    </tr>\n",
       "    <tr>\n",
       "      <th>2</th>\n",
       "      <td>3</td>\n",
       "      <td>Oil and Economy Cloud Stocks' Outlook (Reuters)</td>\n",
       "      <td>Reuters - Soaring crude prices plus worries\\ab...</td>\n",
       "      <td>Oil and Economy Cloud Stocks' Outlook (Reuters...</td>\n",
       "      <td>Business</td>\n",
       "    </tr>\n",
       "    <tr>\n",
       "      <th>3</th>\n",
       "      <td>3</td>\n",
       "      <td>Iraq Halts Oil Exports from Main Southern Pipe...</td>\n",
       "      <td>Reuters - Authorities have halted oil export\\f...</td>\n",
       "      <td>Iraq Halts Oil Exports from Main Southern Pipe...</td>\n",
       "      <td>Business</td>\n",
       "    </tr>\n",
       "    <tr>\n",
       "      <th>4</th>\n",
       "      <td>3</td>\n",
       "      <td>Oil prices soar to all-time record, posing new...</td>\n",
       "      <td>AFP - Tearaway world oil prices, toppling reco...</td>\n",
       "      <td>Oil prices soar to all-time record, posing new...</td>\n",
       "      <td>Business</td>\n",
       "    </tr>\n",
       "  </tbody>\n",
       "</table>\n",
       "</div>"
      ],
      "text/plain": [
       "   Class Index                                              Title  \\\n",
       "0            3  Wall St. Bears Claw Back Into the Black (Reuters)   \n",
       "1            3  Carlyle Looks Toward Commercial Aerospace (Reu...   \n",
       "2            3    Oil and Economy Cloud Stocks' Outlook (Reuters)   \n",
       "3            3  Iraq Halts Oil Exports from Main Southern Pipe...   \n",
       "4            3  Oil prices soar to all-time record, posing new...   \n",
       "\n",
       "                                         Description  \\\n",
       "0  Reuters - Short-sellers, Wall Street's dwindli...   \n",
       "1  Reuters - Private investment firm Carlyle Grou...   \n",
       "2  Reuters - Soaring crude prices plus worries\\ab...   \n",
       "3  Reuters - Authorities have halted oil export\\f...   \n",
       "4  AFP - Tearaway world oil prices, toppling reco...   \n",
       "\n",
       "                                                text     label  \n",
       "0  Wall St. Bears Claw Back Into the Black (Reute...  Business  \n",
       "1  Carlyle Looks Toward Commercial Aerospace (Reu...  Business  \n",
       "2  Oil and Economy Cloud Stocks' Outlook (Reuters...  Business  \n",
       "3  Iraq Halts Oil Exports from Main Southern Pipe...  Business  \n",
       "4  Oil prices soar to all-time record, posing new...  Business  "
      ]
     },
     "execution_count": 65,
     "metadata": {},
     "output_type": "execute_result"
    }
   ],
   "source": [
    "df = pd.read_csv(\"train.csv\")\n",
    "df[\"text\"] = df[\"Title\"].fillna(\"\") + \" \" + df[\"Description\"].fillna(\"\")\n",
    "labelmap = {1: \"World\", 2: \"Sports\", 3: \"Business\", 4: \"Tech\"}\n",
    "df[\"label\"] = df[\"Class Index\"].map(labelmap)\n",
    "df.head()"
   ]
  },
  {
   "cell_type": "markdown",
   "id": "9566c0e7-c696-41bb-ad46-2d6d996dfc28",
   "metadata": {},
   "source": [
    "### Preprocessing \n",
    "Cleans the text, converts to lowercase and removes punctuation/numbers so the model only sees words"
   ]
  },
  {
   "cell_type": "code",
   "execution_count": 66,
   "id": "688c7848-be68-4160-a577-75ea582d7e4f",
   "metadata": {},
   "outputs": [],
   "source": [
    "def clean_text(text):\n",
    "    text = text.lower()\n",
    "    text = re.sub(r\"[^a-z\\s]\", \"\", text)\n",
    "    return text\n",
    "df[\"clean_text\"] = df[\"text\"].apply(clean_text)"
   ]
  },
  {
   "cell_type": "markdown",
   "id": "e8fc110f-5266-4c0d-8ccc-f2f11eb65919",
   "metadata": {},
   "source": [
    "### Exploratory Analysis - Category Distribution\n",
    "This visualizes the dataset"
   ]
  },
  {
   "cell_type": "code",
   "execution_count": 67,
   "id": "2a3cfc40-281b-4a4d-8ce4-7cb4fd5f219d",
   "metadata": {},
   "outputs": [
    {
     "data": {
      "image/png": "[encoded data removed]",
      "text/plain": [
       "<Figure size 600x600 with 1 Axes>"
      ]
     },
     "metadata": {},
     "output_type": "display_data"
    }
   ],
   "source": [
    "plt.figure(figsize=(6,6))\n",
    "sns.countplot(\n",
    "    x = \"label\", hue = \"label\", data = df,\n",
    "    order = df[\"label\"].value_counts().index,\n",
    "    palette = \"Set2\", legend = False\n",
    ")\n",
    "plt.title(\"Number of samples per Category\")\n",
    "plt.xlabel(\"Category\")\n",
    "plt.ylabel(\"Count\")\n",
    "plt.show()"
   ]
  },
  {
   "cell_type": "markdown",
   "id": "1da3d285-7c71-4853-b3f9-bf54a03b51e7",
   "metadata": {},
   "source": [
    "### Exploratory Analysis - Most Frequent Words\n",
    "This also visualizes the dataset"
   ]
  },
  {
   "cell_type": "code",
   "execution_count": 68,
   "id": "7f7ce068-1482-47c4-b790-ade4bc23daa2",
   "metadata": {},
   "outputs": [
    {
     "data": {
      "image/png": "[encoded data removed]",
      "text/plain": [
       "<Figure size 600x600 with 1 Axes>"
      ]
     },
     "metadata": {},
     "output_type": "display_data"
    }
   ],
   "source": [
    "allwords = \" \".join(df[\"clean_text\"]).split()\n",
    "wordFreq= Counter(allwords).most_common(10)\n",
    "words, counts = zip(*wordFreq)\n",
    "\n",
    "plt.figure(figsize = (6,6))\n",
    "sns.barplot(x = list(words), y = list(counts),\n",
    "            hue = list(words), palette = \"Set3\", legend = False)\n",
    "\n",
    "plt.title(\"Top 10 most frequent Words\")\n",
    "plt.xticks(rotation = 45)\n",
    "plt.show()\n"
   ]
  },
  {
   "cell_type": "markdown",
   "id": "b867c076-9439-4bae-ad46-289de2abe371",
   "metadata": {},
   "source": [
    "### Train/Test Split\n",
    "Splits the data while keeping label balance"
   ]
  },
  {
   "cell_type": "code",
   "execution_count": 69,
   "id": "73f9b7eb-832b-4502-9daf-5c0e2bf8367e",
   "metadata": {},
   "outputs": [],
   "source": [
    "X_train, X_test, y_train, y_test = train_test_split (\n",
    "    df[\"clean_text\"],\n",
    "    df[\"label\"],\n",
    "    test_size = 0.3,\n",
    "    random_state = 42,\n",
    "    stratify = df[\"label\"]\n",
    ")"
   ]
  },
  {
   "cell_type": "markdown",
   "id": "44448159-b3a4-4b08-93fe-31cb65fb7037",
   "metadata": {},
   "source": [
    "### TF-IDF Vectorization\n",
    "Converts cleaned text into numerical vectors using TF-IDF"
   ]
  },
  {
   "cell_type": "code",
   "execution_count": 70,
   "id": "1acea3fc-f7af-46f8-be2c-20f81c38aecb",
   "metadata": {},
   "outputs": [],
   "source": [
    "vectorizer = TfidfVectorizer(max_features = 5000, stop_words = \"english\") # keeps 5000 most important features\n",
    "X_train_v = vectorizer.fit_transform(X_train)\n",
    "X_test_v = vectorizer.transform(X_test)"
   ]
  },
  {
   "cell_type": "markdown",
   "id": "cac68ad9-8539-4655-b1be-756d0dbc1a6e",
   "metadata": {},
   "source": [
    "### Logistic Regression Model\n",
    "This train and test LR model, print accuracy"
   ]
  },
  {
   "cell_type": "code",
   "execution_count": 71,
   "id": "ce094c45-ef0a-446d-bc8c-079d58ac3d8e",
   "metadata": {},
   "outputs": [
    {
     "name": "stdout",
     "output_type": "stream",
     "text": [
      "\n",
      "Logistic Regression Results\n",
      "Accuracy: 0.9071388888888889\n",
      "              precision    recall  f1-score   support\n",
      "\n",
      "    Business       0.88      0.88      0.88      9000\n",
      "      Sports       0.95      0.97      0.96      9000\n",
      "        Tech       0.88      0.88      0.88      9000\n",
      "       World       0.92      0.90      0.91      9000\n",
      "\n",
      "    accuracy                           0.91     36000\n",
      "   macro avg       0.91      0.91      0.91     36000\n",
      "weighted avg       0.91      0.91      0.91     36000\n",
      "\n"
     ]
    }
   ],
   "source": [
    "lr = LogisticRegression(max_iter = 1000)\n",
    "lr.fit(X_train_v, y_train)\n",
    "y_predLregression = lr.predict(X_test_v)\n",
    "\n",
    "print(\"\\nLogistic Regression Results\")\n",
    "print(\"Accuracy:\", accuracy_score(y_test, y_predLregression))\n",
    "print(classification_report(y_test, y_predLregression))"
   ]
  },
  {
   "cell_type": "markdown",
   "id": "896fae5b-836b-4352-a83d-1f7483531f4b",
   "metadata": {},
   "source": [
    "### Naive Bayes model\n",
    "This also train and test NB model, print accuracy"
   ]
  },
  {
   "cell_type": "code",
   "execution_count": 72,
   "id": "155f7371-f992-4dc4-9f0d-770fe62e7b02",
   "metadata": {},
   "outputs": [
    {
     "name": "stdout",
     "output_type": "stream",
     "text": [
      "\n",
      "Naive Bayes Results\n",
      "Accuracy: 0.8932222222222223\n",
      "              precision    recall  f1-score   support\n",
      "\n",
      "    Business       0.86      0.85      0.86      9000\n",
      "      Sports       0.94      0.97      0.96      9000\n",
      "        Tech       0.87      0.86      0.86      9000\n",
      "       World       0.90      0.89      0.89      9000\n",
      "\n",
      "    accuracy                           0.89     36000\n",
      "   macro avg       0.89      0.89      0.89     36000\n",
      "weighted avg       0.89      0.89      0.89     36000\n",
      "\n"
     ]
    }
   ],
   "source": [
    "nb = MultinomialNB ()\n",
    "nb.fit(X_train_v, y_train)\n",
    "y_predNbayes = nb.predict(X_test_v)\n",
    "\n",
    "print(\"\\nNaive Bayes Results\")\n",
    "print(\"Accuracy:\", accuracy_score(y_test, y_predNbayes))\n",
    "print(classification_report(y_test, y_predNbayes))"
   ]
  },
  {
   "cell_type": "markdown",
   "id": "6ab1ec1e-8fc6-42fa-9e1e-5daf46fdf0fa",
   "metadata": {},
   "source": [
    "### Confusion Matrix (Logistic Regression)\n",
    "Visualize Logistic Regression predictions vs true labels"
   ]
  },
  {
   "cell_type": "code",
   "execution_count": 73,
   "id": "106fa106-564a-4175-bb46-45a443235ba6",
   "metadata": {},
   "outputs": [
    {
     "data": {
      "image/png": "[encoded data removed]",
      "text/plain": [
       "<Figure size 600x600 with 2 Axes>"
      ]
     },
     "metadata": {},
     "output_type": "display_data"
    }
   ],
   "source": [
    "cm = confusion_matrix(y_test, y_predLregression, labels = lr.classes_)\n",
    "plt.figure(figsize = (6,6))\n",
    "sns.heatmap(\n",
    "    cm, annot = True, fmt = \"d\", cmap = \"Blues\",\n",
    "    xticklabels = lr.classes_, yticklabels = lr.classes_\n",
    ")\n",
    "plt.title(\"Confusion Matrix - Logistic Regression\")\n",
    "plt.xlabel(\"Predicted\")\n",
    "plt.ylabel(\"True\")\n",
    "plt.show()"
   ]
  },
  {
   "cell_type": "markdown",
   "id": "088a6df6-31fa-4732-b5e2-b6c1fc412dcc",
   "metadata": {},
   "source": [
    "### Prediction Helper"
   ]
  },
  {
   "cell_type": "code",
   "execution_count": 78,
   "id": "2b40530a-f441-475f-8464-99bcd9eba7e7",
   "metadata": {},
   "outputs": [
    {
     "name": "stdout",
     "output_type": "stream",
     "text": [
      "\n",
      "Sample: LinkPlus launches a new Sugar\n",
      "Logistic Regression: Tech\n",
      "Naive Bayes: Tech\n"
     ]
    }
   ],
   "source": [
    "def predict_text(text, model = \"logisticregression\"):\n",
    "    vec = vectorizer.transform([clean_text(text)])\n",
    "    if model == \"logisticregression\":\n",
    "        return lr.predict(vec)[0]\n",
    "    elif model == \"naivebayes\":\n",
    "        return nb.predict(vec)[0]\n",
    "\n",
    "sample = \"LinkPlus launches a new AI tool\"\n",
    "print(\"\\nSample:\", sample)\n",
    "print(\"Logistic Regression:\", predict_text(sample, \"logisticregression\"))\n",
    "print(\"Naive Bayes:\", predict_text(sample, \"naivebayes\"))"
   ]
  },
  {
   "cell_type": "markdown",
   "id": "c48e0791-f289-4f82-a4c5-f122367b2cb8",
   "metadata": {},
   "source": [
    "### Compare Models "
   ]
  },
  {
   "cell_type": "code",
   "execution_count": 79,
   "id": "00d16a79-ef08-4b9a-8a19-ebcee2f2f30b",
   "metadata": {},
   "outputs": [
    {
     "name": "stdout",
     "output_type": "stream",
     "text": [
      "\n",
      "Logistic regression performed better\n"
     ]
    }
   ],
   "source": [
    "acc_lregression = accuracy_score(y_test, y_predLregression)\n",
    "acc_nbayes = accuracy_score(y_test, y_predNbayes)\n",
    "\n",
    "if acc_lregression > acc_nbayes:\n",
    "    print(\"\\nLogistic regression performed better\")\n",
    "elif acc_nbayes > acc_lregression:\n",
    "    print(\"\\nNaive Bayes performed better\")\n",
    "else:\n",
    "    print(\"\\nBoth models performed equally\")\n"
   ]
  },
  {
   "cell_type": "code",
   "execution_count": null,
   "id": "ab362107-6936-4df7-9124-1dd5d8bbb984",
   "metadata": {},
   "outputs": [],
   "source": []
  }
 ],
 "metadata": {
  "kernelspec": {
   "display_name": "Python 3 (ipykernel)",
   "language": "python",
   "name": "python3"
  },
  "language_info": {
   "codemirror_mode": {
    "name": "ipython",
    "version": 3
   },
   "file_extension": ".py",
   "mimetype": "text/x-python",
   "name": "python",
   "nbconvert_exporter": "python",
   "pygments_lexer": "ipython3",
   "version": "3.13.2"
  }
 },
 "nbformat": 4,
 "nbformat_minor": 5
}
